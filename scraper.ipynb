{
 "cells": [
  {
   "cell_type": "code",
   "execution_count": 1,
   "metadata": {},
   "outputs": [
    {
     "ename": "ModuleNotFoundError",
     "evalue": "No module named 'selenium'",
     "output_type": "error",
     "traceback": [
      "\u001b[0;31m---------------------------------------------------------------------------\u001b[0m",
      "\u001b[0;31mModuleNotFoundError\u001b[0m                       Traceback (most recent call last)",
      "Cell \u001b[0;32mIn[1], line 2\u001b[0m\n\u001b[1;32m      1\u001b[0m \u001b[39mimport\u001b[39;00m \u001b[39mpandas\u001b[39;00m \u001b[39mas\u001b[39;00m \u001b[39mpd\u001b[39;00m\n\u001b[0;32m----> 2\u001b[0m \u001b[39mfrom\u001b[39;00m \u001b[39mselenium\u001b[39;00m \u001b[39mimport\u001b[39;00m webdriver\n\u001b[1;32m      3\u001b[0m \u001b[39mfrom\u001b[39;00m \u001b[39mselenium\u001b[39;00m\u001b[39m.\u001b[39;00m\u001b[39mwebdriver\u001b[39;00m\u001b[39m.\u001b[39;00m\u001b[39mcommon\u001b[39;00m\u001b[39m.\u001b[39;00m\u001b[39mby\u001b[39;00m \u001b[39mimport\u001b[39;00m By\n\u001b[1;32m      5\u001b[0m \u001b[39m# specify the path to the web browser driver\u001b[39;00m\n",
      "\u001b[0;31mModuleNotFoundError\u001b[0m: No module named 'selenium'"
     ]
    }
   ],
   "source": [
    "import pandas as pd\n",
    "from selenium import webdriver\n",
    "from selenium.webdriver.common.by import By\n",
    "\n",
    "# specify the path to the web browser driver\n",
    "driver_path = '/path/to/web/driver'\n",
    "\n",
    "# create a webdriver instance\n",
    "driver = webdriver.Chrome(driver_path)\n",
    "\n",
    "# navigate to the website\n",
    "driver.get('https://www.b3.com.br/pt_br/produtos-e-servicos/negociacao/renda-variavel/empresas-listadas.htm')\n",
    "\n",
    "# find the search field element and enter the value 'PETR3'\n",
    "search_field = driver.find_element(By.NAME, 'nameSearch')\n",
    "search_field.send_keys('PETR3')\n",
    "\n",
    "# find the search button element and click it\n",
    "search_button = driver.find_element(By.XPATH, \"//button[@type='submit']\")\n",
    "search_button.click()\n",
    "\n",
    "# find the first search result element and click it\n",
    "first_result = driver.find_element(By.XPATH, \"//table[@class='table']//tr[1]\")\n",
    "first_result.click()\n",
    "\n",
    "# create an empty list to store the data\n",
    "data = []\n",
    "\n",
    "# find all table rows on the page\n",
    "rows = driver.find_elements(By.XPATH, \"//table[@class='table']//tr\")\n",
    "\n",
    "# iterate over the rows and extract the data\n",
    "for row in rows:\n",
    "    cols = row.find_elements(By.TAG_NAME, \"td\")\n",
    "    row_data = []\n",
    "    for col in cols:\n",
    "        row_data.append(col.text)\n",
    "    data.append(row_data)\n",
    "\n",
    "# create a pandas dataframe from the extracted data\n",
    "df = pd.DataFrame(data)\n",
    "\n",
    "# close the webdriver and exit the script\n",
    "driver.close()"
   ]
  }
 ],
 "metadata": {
  "kernelspec": {
   "display_name": "Python 3",
   "language": "python",
   "name": "python3"
  },
  "language_info": {
   "codemirror_mode": {
    "name": "ipython",
    "version": 3
   },
   "file_extension": ".py",
   "mimetype": "text/x-python",
   "name": "python",
   "nbconvert_exporter": "python",
   "pygments_lexer": "ipython3",
   "version": "3.10.7 (main, Nov 24 2022, 19:45:47) [GCC 12.2.0]"
  },
  "orig_nbformat": 4,
  "vscode": {
   "interpreter": {
    "hash": "e7370f93d1d0cde622a1f8e1c04877d8463912d04d973331ad4851f04de6915a"
   }
  }
 },
 "nbformat": 4,
 "nbformat_minor": 2
}
