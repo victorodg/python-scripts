{
 "cells": [
  {
   "cell_type": "code",
   "execution_count": 2,
   "metadata": {},
   "outputs": [],
   "source": [
    "import pandas as pd\n",
    "import numpy as np\n",
    "import openpyxl\n",
    "import traceback\n",
    "from openpyxl.worksheet.worksheet import Worksheet\n",
    "from openpyxl.utils.dataframe import dataframe_to_rows\n",
    "import inspect\n",
    "import datetime as dt\n",
    "from dateutil.relativedelta import relativedelta"
   ]
  },
  {
   "cell_type": "code",
   "execution_count": 9,
   "metadata": {},
   "outputs": [],
   "source": [
    "dt_now = dt.datetime.today()\n",
    "\n",
    "int_yyyy = dt_now.year\n",
    "int_mm = dt_now.month\n",
    "int_dd = dt_now.day\n",
    "\n",
    "dt_yyyymm01 = dt.date(dt_now.year, dt_now.month, 1)\n",
    "dt_yyyymm01_minus1 = dt_yyyymm01 - pd.tseries.offsets.BDay(1)\n",
    "\n",
    "str_yyyy = str(int_yyyy)\n",
    "str_mm = '0'+str(int_mm)\n",
    "str_mm = str_mm[-2:]\n",
    "str_dd = '0'+str(int_dd)\n",
    "\n",
    "str_yyyymm = str_yyyy + str_mm\n",
    "str_yyyymmdd = str_yyyymm + str_dd\n",
    "\n",
    "str_hh = '0'+ str(dt_now.hour)\n",
    "str_hh = str_hh[-2:]\n",
    "\n",
    "str_min = '0'+ str(dt_now.minute)\n",
    "str_min = str_min[-2:]\n",
    "\n",
    "str_datetime = str_yyyymmdd + '_' + str_hh + str_min\n",
    "\n",
    "dt_last_mm = dt_now - relativedelta(months=1)\n",
    "int_last_mm = dt_last_mm.month\n",
    "str_last_mm = '0'+ str(int_last_mm)\n",
    "str_last_mm = str_last_mm[-2:]\n",
    "\n",
    "str_last_yyyymm = str(dt_last_mm.year) + str_last_mm\n",
    "int_last_yyyymm = int(str_last_yyyymm)\n",
    "dt_last_yyyymm01 = dt.date(dt_last_mm.year, dt_last_mm.month, 1)\n",
    "dt_last_yyyymm01_minus1 = dt_last_yyyymm01 - pd.tseries/offsets.Bday(1)\n",
    "\n",
    "dt_last_last_mm = dt_now - relativedelta(months=2)\n",
    "int_last_last_mm = dt_last_last_mm.month\n",
    "str_last_last_mm = '0'+ str(int_last_last_mm)\n",
    "str_last_last_mm = str_last_last_mm[-2:]\n",
    "\n",
    "str_last_last_yyyymm = str(dt_last_last_mm.year) + str_last_last_mm\n",
    "int_last_last_yyyymm = int(str_last_last_yyyymm)\n",
    "dt_last_last_yyyymm01 = dt.date(dt_last_last_mm.year, dt_last_last_mm.month, 1)\n",
    "dt_last_last_yyyymm01_minus1 = dt_last_last_yyyymm01 - pd.tseries/offsets.Bday(1)"
   ]
  },
  {
   "attachments": {},
   "cell_type": "markdown",
   "metadata": {},
   "source": [
    "################ USAGE ################\\\n",
    "#---------------- SQL ----------------#\\\n",
    "search_table('test', conn)\\\n",
    "list_columns('test', conn)\\\n",
    "create_script('test', conn)\\\n",
    "df = pd.read_sql('SELECT * FROM test', conn)\\\n",
    "upload_sql(df, 'test', conn)\\\n",
    "engine.execute('DELETE FROM table WHERE id = 1')\\\n",
    "---------------- MANIPULATION ----------------#\\\n",
    "df = df.merge(df2[['id', 'name']], how='left', left_on='id', right_on='id')\\\n",
    "df = df.drop_duplicates(subset='id', keep='last', inplace=True)\\\n",
    "df1['value'] = df1['id'].apply(lookup, args = (df2['id'], df2['value']))\\\n",
    "print(tabulate(df1, headers='keys', tablefmt='pretty'))\\\n",
    "substring_location = find_substring(df, 'test')\\\n",
    "substring_row = substring_location[0]\\\n",
    "substring_col = substring_location[1]\\\n",
    "normalized_string = normalize_string(string)\\\n",
    "df['normalized_string'] = df['value'].apply(normalize_string)\\\n",
    "letters_only_string = letters_only(string)\\\n",
    "df['letters_only_string'] = df['value'].apply(letters_only)\\\n",
    "---------------- WRITE ----------------#\\\n",
    "df = pd.read_csv('/path/to/file.csv', encoding='ansi', sep=';', lineterminator='\\\\r', \\\n",
    "encoding_errors='ignore', usecols=['id', 'name', 'value'])\\\n",
    "export_to_excel([df], '/path/to/file.xlsx')\\\n",
    "print_df(df)\\\n",
    "---------------- OTHER ----------------#\\\n",
    "file_path = get_latest_file('/path/to/directory')\\"
   ]
  }
 ],
 "metadata": {
  "kernelspec": {
   "display_name": "Python 3",
   "language": "python",
   "name": "python3"
  },
  "language_info": {
   "codemirror_mode": {
    "name": "ipython",
    "version": 3
   },
   "file_extension": ".py",
   "mimetype": "text/x-python",
   "name": "python",
   "nbconvert_exporter": "python",
   "pygments_lexer": "ipython3",
   "version": "3.11.2"
  },
  "orig_nbformat": 4
 },
 "nbformat": 4,
 "nbformat_minor": 2
}
