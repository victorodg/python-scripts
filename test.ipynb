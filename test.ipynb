{
 "cells": [
  {
   "cell_type": "code",
   "execution_count": 2,
   "metadata": {},
   "outputs": [],
   "source": [
    "import pandas as pd\n",
    "import numpy as np\n",
    "import openpyxl\n",
    "import traceback\n",
    "from openpyxl.worksheet.worksheet import Worksheet\n",
    "from openpyxl.utils.dataframe import dataframe_to_rows\n",
    "import inspect\n",
    "import datetime as dt\n",
    "from dateutil.relativedelta import relativedelta"
   ]
  },
  {
   "cell_type": "code",
   "execution_count": 9,
   "metadata": {},
   "outputs": [],
   "source": [
    "dt_now = dt.datetime.today()\n",
    "\n",
    "int_yyyy = dt_now.year\n",
    "int_mm = dt_now.month\n",
    "int_dd = dt_now.day\n",
    "\n",
    "dt_yyyymm01 = dt.date(dt_now.year, dt_now.month, 1)\n",
    "dt_yyyymm01_minus1 = dt_yyyymm01 - pd.tseries.offsets.BDay(1)\n",
    "\n",
    "str_yyyy = str(int_yyyy)\n",
    "str_mm = '0'+str(int_mm)\n",
    "str_mm = str_mm[-2:]\n",
    "str_dd = '0'+str(int_dd)\n",
    "\n",
    "str_yyyymm = str_yyyy + str_mm\n",
    "str_yyyymmdd = str_yyyymm + str_dd\n",
    "\n",
    "str_hh = '0'+ str(dt_now.hour)\n",
    "str_hh = str_hh[-2:]\n",
    "\n",
    "str_min = '0'+ str(dt_now.minute)\n",
    "str_min = str_min[-2:]\n",
    "\n",
    "str_datetime = str_yyyymmdd + '_' + str_hh + str_min\n",
    "\n",
    "dt_last_mm = dt_now - relativedelta(months=1)\n",
    "int_last_mm = dt_last_mm.month\n",
    "str_last_mm = '0'+ str(int_last_mm)\n",
    "str_last_mm = str_last_mm[-2:]\n",
    "\n",
    "str_last_yyyymm = str(dt_last_mm.year) + str_last_mm\n",
    "int_last_yyyymm = int(str_last_yyyymm)\n",
    "dt_last_yyyymm01 = dt.date(dt_last_mm.year, dt_last_mm.month, 1)\n",
    "dt_last_yyyymm01_minus1 = dt_last_yyyymm01 - pd.tseries/offsets.Bday(1)\n",
    "\n",
    "dt_last_last_mm = dt_now - relativedelta(months=2)\n",
    "int_last_last_mm = dt_last_last_mm.month\n",
    "str_last_last_mm = '0'+ str(int_last_last_mm)\n",
    "str_last_last_mm = str_last_last_mm[-2:]\n",
    "\n",
    "str_last_last_yyyymm = str(dt_last_last_mm.year) + str_last_last_mm\n",
    "int_last_last_yyyymm = int(str_last_last_yyyymm)\n",
    "dt_last_last_yyyymm01 = dt.date(dt_last_last_mm.year, dt_last_last_mm.month, 1)\n",
    "dt_last_last_yyyymm01_minus1 = dt_last_last_yyyymm01 - pd.tseries/offsets.Bday(1)"
   ]
  },
  {
   "cell_type": "code",
   "execution_count": 2,
   "metadata": {},
   "outputs": [
    {
     "name": "stdout",
     "output_type": "stream",
     "text": [
      "Error occured: Command 'gsettings set org.gnome.desktop.interface clock-format '%A, %Y-%m-%d %H:%M'' returned non-zero exit status 1.\n"
     ]
    },
    {
     "name": "stderr",
     "output_type": "stream",
     "text": [
      "The provided value is outside of the valid range\n"
     ]
    }
   ],
   "source": [
    "#take the string 'dbo.tb_tablename' and split it using '.', then assign the first element to 'schema' and the second element to 'table'\n",
    "\n",
    "def get_schema_and_table_from_db_name(db_name):\n",
    "    db_name = db_name.split('.')\n",
    "    schema = db_name[0]\n",
    "    table = db_name[1]\n",
    "    return schema, table\n",
    "\n",
    "def upload_sql(df, tablename, conn):\n",
    "    table_array = get_schema_and_table_from_db_name(tablename)\n",
    "    schema = table_array[0]\n",
    "    table = table_array[1]\n",
    "\n",
    "    try:\n",
    "        df.to_sql(name=table, con=conn, schema=schema, index = False, if_exists='append')\n",
    "        print(f'Uploaded {df} to {tablename}')\n",
    "\n",
    "    except:\n",
    "        print(f'Failed to upload {df} to {tablename}')\n",
    "        #print the error given when trying to upload the dataframe to the database\n",
    "        print(traceback.format_exc())\n",
    "    \n",
    "    return"
   ]
  }
 ],
 "metadata": {
  "kernelspec": {
   "display_name": "Python 3",
   "language": "python",
   "name": "python3"
  },
  "language_info": {
   "codemirror_mode": {
    "name": "ipython",
    "version": 3
   },
   "file_extension": ".py",
   "mimetype": "text/x-python",
   "name": "python",
   "nbconvert_exporter": "python",
   "pygments_lexer": "ipython3",
   "version": "3.11.2"
  },
  "orig_nbformat": 4
 },
 "nbformat": 4,
 "nbformat_minor": 2
}
