{
 "cells": [
  {
   "cell_type": "code",
   "execution_count": null,
   "metadata": {},
   "outputs": [],
   "source": [
    "import time\n",
    "import datetime as dt\n",
    "from dateutil.relativedelta import relativedelta"
   ]
  },
  {
   "cell_type": "code",
   "execution_count": null,
   "metadata": {},
   "outputs": [],
   "source": [
    "dt_now = dt.datetime.today()\n",
    "\n",
    "int_yyyy = dt_now.year\n",
    "int_mm = dt_now.month\n",
    "int_dd = dt_now.day\n",
    "\n",
    "dt_yyyymm01 = dt.date(dt_now.year, dt_now.month, 1)\n",
    "dt_yyyymm01_minus1 = dt_yyyymm01 - pd.tseries.offsets.BDay(1)\n",
    "\n",
    "str_yyyy = str(int_yyyy)\n",
    "str_mm = '0'+str(int_mm)\n",
    "str_mm = str_mm[-2:]\n",
    "str_dd = '0'+str(int_dd)\n",
    "\n",
    "str_yyyymm = str_yyyy + str_mm\n",
    "str_yyyymmdd = str_yyyymm + str_dd\n",
    "\n",
    "str_hh = '0'+ str(dt_now.hour)\n",
    "str_hh = str_hh[-2:]\n",
    "\n",
    "str_min = '0'+ str(dt_now.minute)\n",
    "str_min = str_min[-2:]\n",
    "\n",
    "str_datetime = str_yyyymmdd + '_' + str_hh + str_min\n",
    "\n",
    "dt_last_mm = dt_now - relativedelta(months=1)\n",
    "int_last_mm = dt_last_mm.month\n",
    "str_last_mm = '0'+ str(int_last_mm)\n",
    "str_last_mm = str_last_mm[-2:]\n",
    "\n",
    "str_last_yyyymm = str(dt_last_mm.year) + str_last_mm\n",
    "int_last_yyyymm = int(str_last_yyyymm)\n",
    "dt_last_yyyymm01 = dt.date(dt_last_mm.year, dt_last_mm.month, 1)\n",
    "dt_last_yyyymm01_minus1 = dt_last_yyyymm01 - pd.tseries/offsets.Bday(1)\n",
    "\n",
    "dt_last_last_mm = dt_now - relativedelta(months=2)\n",
    "int_last_last_mm = dt_last_last_mm.month\n",
    "str_last_last_mm = '0'+ str(int_last_last_mm)\n",
    "str_last_last_mm = str_last_last_mm[-2:]\n",
    "\n",
    "str_last_last_yyyymm = str(dt_last_last_mm.year) + str_last_last_mm\n",
    "int_last_last_yyyymm = int(str_last_last_yyyymm)\n",
    "dt_last_last_yyyymm01 = dt.date(dt_last_last_mm.year, dt_last_last_mm.month, 1)\n",
    "dt_last_last_yyyymm01_minus1 = dt_last_last_yyyymm01 - pd.tseries/offsets.Bday(1)"
   ]
  }
 ],
 "metadata": {
  "language_info": {
   "name": "python"
  },
  "orig_nbformat": 4
 },
 "nbformat": 4,
 "nbformat_minor": 2
}
