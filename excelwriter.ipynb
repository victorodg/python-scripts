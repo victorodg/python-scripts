{
 "cells": [
  {
   "cell_type": "code",
   "execution_count": 5,
   "metadata": {},
   "outputs": [],
   "source": [
    "import pandas as pd\n",
    "import openpyxl\n",
    "import inspect\n",
    "from openpyxl.worksheet.worksheet import Worksheet\n",
    "from openpyxl.utils.dataframe import dataframe_to_rows"
   ]
  },
  {
   "cell_type": "code",
   "execution_count": 6,
   "metadata": {},
   "outputs": [],
   "source": [
    "# Create mock dataframes\n",
    "df1 = pd.DataFrame({'A': [1, 2, 3], 'B': ['a', 'b', 'c'], 'C': [True, False, True]})\n",
    "df2 = pd.DataFrame({'X': ['a', 'b', 'c', 'd'], 'Y': [1, 2, 3, 4], 'Z': [True, False, True, False]})"
   ]
  },
  {
   "cell_type": "code",
   "execution_count": 8,
   "metadata": {},
   "outputs": [
    {
     "data": {
      "text/plain": [
       "'df1'"
      ]
     },
     "execution_count": 8,
     "metadata": {},
     "output_type": "execute_result"
    }
   ],
   "source": [
    "# function that receives a dataframe as a parameter and returns its name as a string\n",
    "def get_df_name(df):\n",
    "    caller_globals = inspect.currentframe().f_back.f_globals\n",
    "    \n",
    "    for name, obj in caller_globals.items():\n",
    "        if isinstance(obj, pd.DataFrame) and obj is df:\n",
    "            return name\n",
    "    return None\n",
    "\n",
    "df_name = get_df_name(df1)\n",
    "df_name"
   ]
  },
  {
   "cell_type": "code",
   "execution_count": 23,
   "metadata": {},
   "outputs": [],
   "source": [
    "# function that receives a dataframe as a parameter and returns its name as a string\n",
    "\n",
    "def get_df_name(df):\n",
    "    caller_globals = inspect.currentframe().f_back.f_globals\n",
    "    \n",
    "    for name, obj in caller_globals.items():\n",
    "        if isinstance(obj, pd.DataFrame) and obj is df:\n",
    "            return name\n",
    "    return None\n",
    "\n",
    "def export_to_excel(dataframes, filename):\n",
    "    # Create a workbook\n",
    "    workbook = openpyxl.Workbook()\n",
    "\n",
    "    for df in dataframes:\n",
    "\n",
    "        # get the name of the dataframe\n",
    "        sheet_name = get_df_name(df)\n",
    "\n",
    "        # Create a worksheet\n",
    "        worksheet = workbook.create_sheet(sheet_name)\n",
    "        \n",
    "        # Write the data from the dataframe to the worksheet\n",
    "        for row in dataframe_to_rows(df, index=False, header=True):\n",
    "            worksheet.append(row)\n",
    "        \n",
    "        # Set the column widths\n",
    "        for column in df:\n",
    "            column_length = max(df[column].astype(str).map(len).max(), len(column)) + 10\n",
    "            col_idx = df.columns.get_loc(column)\n",
    "            worksheet.column_dimensions[openpyxl.utils.get_column_letter(col_idx+1)].width = column_length\n",
    "\n",
    "        # Freeze the header row\n",
    "        worksheet.freeze_panes = worksheet['A2']\n",
    "        \n",
    "        # Enable filters for the worksheet\n",
    "        num_rows, num_cols = df.shape\n",
    "        cell_range = f'A1:{openpyxl.utils.get_column_letter(num_cols)}{num_rows}'\n",
    "        worksheet.auto_filter.ref = cell_range\n",
    "    \n",
    "    del workbook['Sheet']\n",
    "    \n",
    "    # Save the workbook\n",
    "    workbook.save(filename)"
   ]
  },
  {
   "cell_type": "code",
   "execution_count": 21,
   "metadata": {},
   "outputs": [],
   "source": [
    "# Call the export_to_excel function\n",
    "export_to_excel([df1, df2], ['df1','df2'],'./files/excelwriter.xlsx')"
   ]
  }
 ],
 "metadata": {
  "kernelspec": {
   "display_name": "Python 3",
   "language": "python",
   "name": "python3"
  },
  "language_info": {
   "codemirror_mode": {
    "name": "ipython",
    "version": 3
   },
   "file_extension": ".py",
   "mimetype": "text/x-python",
   "name": "python",
   "nbconvert_exporter": "python",
   "pygments_lexer": "ipython3",
   "version": "3.11.2"
  },
  "orig_nbformat": 4,
  "vscode": {
   "interpreter": {
    "hash": "e7370f93d1d0cde622a1f8e1c04877d8463912d04d973331ad4851f04de6915a"
   }
  }
 },
 "nbformat": 4,
 "nbformat_minor": 2
}
