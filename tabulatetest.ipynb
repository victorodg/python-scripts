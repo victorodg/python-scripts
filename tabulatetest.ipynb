{
 "cells": [
  {
   "cell_type": "code",
   "execution_count": 1,
   "metadata": {},
   "outputs": [
    {
     "name": "stdout",
     "output_type": "stream",
     "text": [
      "+---+---------+-----------+------------+------------+---------+\n",
      "|   | Wombats | Kangaroos |   Koalas   | Platypuses |  Emus   |\n",
      "+---+---------+-----------+------------+------------+---------+\n",
      "| 0 | Chungus |   Joey    |   Blinky   |   Perry    |  Emmy   |\n",
      "| 1 | Froggy  |   Kanga   | Snugglepot |   Platty   | Feather |\n",
      "| 2 |  Chonk  |    Roo    | Cuddlepie  |  Duckbill  | Struth  |\n",
      "| 3 |  Gizmo  |   Boing   | Eucalyptus |   Venom    | Nugget  |\n",
      "| 4 | Puddles |   Hoppy   |  Gumdrop   |   Sleuth   |  Beaky  |\n",
      "+---+---------+-----------+------------+------------+---------+\n"
     ]
    }
   ],
   "source": [
    "import pandas as pd\n",
    "from tabulate import tabulate\n",
    "\n",
    "# Create a dictionary of data\n",
    "data = {'Wombats': ['Chungus', 'Froggy', 'Chonk', 'Gizmo', 'Puddles'],\n",
    "        'Kangaroos': ['Joey', 'Kanga', 'Roo', 'Boing', 'Hoppy'],\n",
    "        'Koalas': ['Blinky', 'Snugglepot', 'Cuddlepie', 'Eucalyptus', 'Gumdrop'],\n",
    "        'Platypuses': ['Perry', 'Platty', 'Duckbill', 'Venom', 'Sleuth'],\n",
    "        'Emus': ['Emmy', 'Feather', 'Struth', 'Nugget', 'Beaky']}\n",
    "\n",
    "# Create the DataFrame\n",
    "df = pd.DataFrame(data)\n",
    "\n",
    "# Print the DataFrame in a pretty format\n",
    "print(tabulate(df, headers='keys', tablefmt='pretty'))"
   ]
  }
 ],
 "metadata": {
  "kernelspec": {
   "display_name": "Python 3",
   "language": "python",
   "name": "python3"
  },
  "language_info": {
   "codemirror_mode": {
    "name": "ipython",
    "version": 3
   },
   "file_extension": ".py",
   "mimetype": "text/x-python",
   "name": "python",
   "nbconvert_exporter": "python",
   "pygments_lexer": "ipython3",
   "version": "3.11.2"
  },
  "orig_nbformat": 4
 },
 "nbformat": 4,
 "nbformat_minor": 2
}
