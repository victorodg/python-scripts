{
 "cells": [
  {
   "cell_type": "code",
   "execution_count": 1,
   "metadata": {},
   "outputs": [],
   "source": [
    "from tabulate import tabulate\n",
    "import os\n",
    "import pandas as pd\n",
    "\n",
    "# create games dataframe with column 'path'\n",
    "games = []\n",
    "path = '/home/victorodg/Games'\n",
    "\n",
    "flatpak = 'flatpak run'\n",
    "gba = 'io.mgba.mGBA'\n",
    "n64 = 'io.github.simple64.simple64'\n",
    "ps1 = 'org.duckstation.DuckStation'\n",
    "ps2 = 'net.pcsx2.PCSX2'\n",
    "psp = 'org.ppsspp.PPSSPP'\n",
    "snes = 'com.snes9x.Snes9x'"
   ]
  },
  {
   "cell_type": "code",
   "execution_count": 2,
   "metadata": {},
   "outputs": [],
   "source": [
    "for folder in os.listdir(path):\n",
    "    if folder == 'gba':\n",
    "        #search recursively for .gba files using os.walk(), then games receives the full path to the .gba file\n",
    "        for root, dirs, files in os.walk(path + '/' + folder):\n",
    "            for file in files:\n",
    "                if file.endswith('.gba'):\n",
    "                    games.append(f'{flatpak} {gba} \\\"{path}/{folder}/{file}\\\"')\n",
    "    elif folder == 'n64':\n",
    "        for root, dirs, files in os.walk(path + '/' + folder):\n",
    "            for file in files:\n",
    "                if file.endswith('.z64'):\n",
    "                    games.append(f'{flatpak} --filesystem=host:ro {n64} \\\"{path}/{folder}/{file}\\\"')\n",
    "    elif folder == 'ps2':\n",
    "        for root, dirs, files in os.walk(path + '/' + folder):\n",
    "            for file in files:\n",
    "                if file.endswith('.iso'):\n",
    "                    games.append(f'{flatpak} {ps2} \\\"{path}/{folder}/{file}\\\"')\n",
    "    elif folder == 'psp':\n",
    "        for root, dirs, files in os.walk(path + '/' + folder):\n",
    "            for file in files:\n",
    "                if file.endswith('.iso'):\n",
    "                    games.append(f'{flatpak} {psp} \\\"{path}/{folder}/{file}\\\"')\n",
    "    elif folder == 'snes':\n",
    "        for root, dirs, files in os.walk(path + '/' + folder):\n",
    "            for file in files:\n",
    "                if file.endswith('.sfc'):\n",
    "                    games.append(f'{flatpak} {snes} \\\"{path}/{folder}/{file}\\\"')\n",
    "    elif folder == 'psx':\n",
    "        for root, dirs, files in os.walk(path + '/' + folder):\n",
    "            for file in files:\n",
    "                if file.endswith('.bin'):\n",
    "                    games.append(f'{flatpak} {ps1} \\\"{path}/{folder}/{file}\\\"')"
   ]
  },
  {
   "cell_type": "code",
   "execution_count": 3,
   "metadata": {},
   "outputs": [
    {
     "name": "stdout",
     "output_type": "stream",
     "text": [
      "flatpak run com.snes9x.Snes9x \"/home/victorodg/Games/snes/Breath of Fire (USA).sfc\"\n",
      "flatpak run com.snes9x.Snes9x \"/home/victorodg/Games/snes/EarthBound (USA).sfc\"\n",
      "flatpak run com.snes9x.Snes9x \"/home/victorodg/Games/snes/Harvest Moon (USA).sfc\"\n",
      "flatpak run com.snes9x.Snes9x \"/home/victorodg/Games/snes/Legend of Zelda, The - A Link to the Past (USA).sfc\"\n",
      "flatpak run com.snes9x.Snes9x \"/home/victorodg/Games/snes/Secret of Mana (USA).sfc\"\n",
      "flatpak run com.snes9x.Snes9x \"/home/victorodg/Games/snes/Super Mario World (USA).sfc\"\n",
      "flatpak run com.snes9x.Snes9x \"/home/victorodg/Games/snes/Ys III - Wanderers from Ys (USA).sfc\"\n",
      "flatpak run com.snes9x.Snes9x \"/home/victorodg/Games/snes/Donkey Kong Country (USA) (Rev 1).sfc\"\n",
      "flatpak run com.snes9x.Snes9x \"/home/victorodg/Games/snes/Chrono Trigger - Complete (Hack v1.5).sfc\"\n",
      "flatpak run com.snes9x.Snes9x \"/home/victorodg/Games/snes/Chrono Trigger+ (v2.6).sfc\"\n",
      "flatpak run com.snes9x.Snes9x \"/home/victorodg/Games/snes/Dragon Quest I & II (English v2.0 DQ) [Fix v1.053rtm].sfc\"\n",
      "flatpak run com.snes9x.Snes9x \"/home/victorodg/Games/snes/Final Fantasy VI (TWUE 3.06) + Bug Fixes, Updated Opera, & Add-Ons.sfc\"\n",
      "flatpak run com.snes9x.Snes9x \"/home/victorodg/Games/snes/Final Fantasy VI (TWUE 3.06) + Bug Fixes & Add-Ons.sfc\"\n",
      "flatpak run com.snes9x.Snes9x \"/home/victorodg/Games/snes/Final Fantasy VI (TWUE 3.06) + Bug Fixes & Updated Opera.sfc\"\n",
      "flatpak run com.snes9x.Snes9x \"/home/victorodg/Games/snes/Final Fantasy VI (TWUE 3.06) + Bug Fixes.sfc\"\n",
      "flatpak run com.snes9x.Snes9x \"/home/victorodg/Games/snes/Final Fantasy VI (TWUE 3.06) + Updated Opera.sfc\"\n",
      "flatpak run com.snes9x.Snes9x \"/home/victorodg/Games/snes/Final Fantasy VI (TWUE 3.06).sfc\"\n",
      "flatpak run io.mgba.mGBA \"/home/victorodg/Games/gba/Sonic Advance (USA) (En,Ja).gba\"\n",
      "flatpak run io.mgba.mGBA \"/home/victorodg/Games/gba/Final Fantasy Tactics Advance (U)(Eurasia).gba\"\n",
      "flatpak run io.mgba.mGBA \"/home/victorodg/Games/gba/The Legend of Zelda - The Minish Cap (U)(DCS).gba\"\n",
      "flatpak run io.mgba.mGBA \"/home/victorodg/Games/gba/Kirby - Nightmare in Dreamland (U) [!].gba\"\n",
      "flatpak run --filesystem=host:ro io.github.simple64.simple64 \"/home/victorodg/Games/n64/Super Smash Bros. (U) [!].z64\"\n",
      "flatpak run --filesystem=host:ro io.github.simple64.simple64 \"/home/victorodg/Games/n64/Mystical Ninja Starring Goemon (USA).z64\"\n",
      "flatpak run --filesystem=host:ro io.github.simple64.simple64 \"/home/victorodg/Games/n64/Legend of Zelda, The - Ocarina of Time (USA).z64\"\n",
      "flatpak run --filesystem=host:ro io.github.simple64.simple64 \"/home/victorodg/Games/n64/Legend of Zelda, The - Majora's Mask Redux (v2.0).z64\"\n",
      "flatpak run net.pcsx2.PCSX2 \"/home/victorodg/Games/ps2/Ys - The Ark of Napishtim (USA).iso\"\n",
      "flatpak run net.pcsx2.PCSX2 \"/home/victorodg/Games/ps2/Ar tonelico II - Melody of Metafalica (Europe) (En,Ja).iso\"\n",
      "flatpak run net.pcsx2.PCSX2 \"/home/victorodg/Games/ps2/Devil May Cry 3 - Dante's Awakening - Special Edition (USA) (En,Ja).iso\"\n",
      "flatpak run net.pcsx2.PCSX2 \"/home/victorodg/Games/ps2/Ar tonelico - Melody of Elemia (Europe) (En,Ja).iso\"\n",
      "flatpak run net.pcsx2.PCSX2 \"/home/victorodg/Games/ps2/Atelier Iris 3 - Grand Phantasm (USA) (En,Ja).iso\"\n",
      "flatpak run net.pcsx2.PCSX2 \"/home/victorodg/Games/ps2/Ratchet & Clank - Up Your Arsenal (USA) (En,Fr,Es).iso\"\n",
      "flatpak run net.pcsx2.PCSX2 \"/home/victorodg/Games/ps2/Sims 2, The - Castaway (USA).iso\"\n",
      "flatpak run net.pcsx2.PCSX2 \"/home/victorodg/Games/ps2/Midnight Club 3 - DUB Edition Remix (USA).iso\"\n",
      "flatpak run net.pcsx2.PCSX2 \"/home/victorodg/Games/ps2/Haunting Ground (USA).iso\"\n",
      "flatpak run net.pcsx2.PCSX2 \"/home/victorodg/Games/ps2/Dragon Quest - The Journey of the Cursed King (Europe, Australia) (En,Fr,De,Es,It).iso\"\n",
      "flatpak run net.pcsx2.PCSX2 \"/home/victorodg/Games/ps2/Dragon Quest V (English v1.2 DQ).iso\"\n",
      "flatpak run net.pcsx2.PCSX2 \"/home/victorodg/Games/ps2/Raw Danger (Europe).iso\"\n",
      "flatpak run org.duckstation.DuckStation \"/home/victorodg/Games/psx/Arc the Lad Collection - Arc the Lad (USA).bin\"\n",
      "flatpak run org.duckstation.DuckStation \"/home/victorodg/Games/psx/Front Mission 3 (USA).bin\"\n",
      "flatpak run org.duckstation.DuckStation \"/home/victorodg/Games/psx/Suikoden II (USA).bin\"\n",
      "flatpak run org.duckstation.DuckStation \"/home/victorodg/Games/psx/Suikoden (USA) (v1.1).bin\"\n"
     ]
    }
   ],
   "source": [
    "for game in games:\n",
    "    print(game)"
   ]
  }
 ],
 "metadata": {
  "kernelspec": {
   "display_name": "Python 3",
   "language": "python",
   "name": "python3"
  },
  "language_info": {
   "codemirror_mode": {
    "name": "ipython",
    "version": 3
   },
   "file_extension": ".py",
   "mimetype": "text/x-python",
   "name": "python",
   "nbconvert_exporter": "python",
   "pygments_lexer": "ipython3",
   "version": "3.11.4"
  },
  "orig_nbformat": 4
 },
 "nbformat": 4,
 "nbformat_minor": 2
}
